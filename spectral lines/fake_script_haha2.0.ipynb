{
 "cells": [
  {
   "cell_type": "code",
   "execution_count": 1,
   "id": "6a2a617b",
   "metadata": {},
   "outputs": [
    {
     "ename": "ModuleNotFoundError",
     "evalue": "No module named 'pandas'",
     "output_type": "error",
     "traceback": [
      "\u001b[1;31m---------------------------------------------------------------------------\u001b[0m",
      "\u001b[1;31mModuleNotFoundError\u001b[0m                       Traceback (most recent call last)",
      "Cell \u001b[1;32mIn[1], line 2\u001b[0m\n\u001b[0;32m      1\u001b[0m \u001b[38;5;66;03m# 匯入必要模組\u001b[39;00m\n\u001b[1;32m----> 2\u001b[0m \u001b[38;5;28;01mimport\u001b[39;00m\u001b[38;5;250m \u001b[39m\u001b[38;5;21;01mpandas\u001b[39;00m\u001b[38;5;250m \u001b[39m\u001b[38;5;28;01mas\u001b[39;00m\u001b[38;5;250m \u001b[39m\u001b[38;5;21;01mpd\u001b[39;00m \u001b[38;5;66;03m# Pandas :處理和分析表格資料 (例如 CSV 或 TSV 檔案) 的強大工具\u001b[39;00m\n\u001b[0;32m      3\u001b[0m \u001b[38;5;28;01mimport\u001b[39;00m\u001b[38;5;250m \u001b[39m\u001b[38;5;21;01mmatplotlib\u001b[39;00m\u001b[38;5;21;01m.\u001b[39;00m\u001b[38;5;21;01mpyplot\u001b[39;00m\u001b[38;5;250m \u001b[39m\u001b[38;5;28;01mas\u001b[39;00m\u001b[38;5;250m \u001b[39m\u001b[38;5;21;01mplt\u001b[39;00m \u001b[38;5;66;03m# Matplotlib :繪圖函式庫。其中的 pyplot 模組提供了類似 MATLAB 的繪圖介面，可以創建各種靜態、動態、互動式圖表\u001b[39;00m\n\u001b[0;32m      4\u001b[0m \u001b[38;5;28;01mfrom\u001b[39;00m\u001b[38;5;250m \u001b[39m\u001b[38;5;21;01mscipy\u001b[39;00m\u001b[38;5;21;01m.\u001b[39;00m\u001b[38;5;21;01mndimage\u001b[39;00m\u001b[38;5;250m \u001b[39m\u001b[38;5;28;01mimport\u001b[39;00m gaussian_filter1d \u001b[38;5;66;03m# 從 SciPy 函式庫的 ndimage 子模組中，匯入特定的 gaussian_filter1d 函數，用來執行高斯平滑\u001b[39;00m\n",
      "\u001b[1;31mModuleNotFoundError\u001b[0m: No module named 'pandas'"
     ]
    }
   ],
   "source": [
    "# 匯入必要模組\n",
    "import pandas as pd # Pandas :處理和分析表格資料 (例如 CSV 或 TSV 檔案) 的強大工具\n",
    "import matplotlib.pyplot as plt # Matplotlib :繪圖函式庫。其中的 pyplot 模組提供了類似 MATLAB 的繪圖介面，可以創建各種靜態、動態、互動式圖表\n",
    "from scipy.ndimage import gaussian_filter1d # 從 SciPy 函式庫的 ndimage 子模組中，匯入特定的 gaussian_filter1d 函數，用來執行高斯平滑\n",
    "import numpy as np # 匯入 NumPy 函式庫"
   ]
  },
  {
   "cell_type": "code",
   "execution_count": null,
   "id": "27539737",
   "metadata": {},
   "outputs": [],
   "source": [
    "# 整理資料準備等等餵給運算模組\n",
    "file_path = \"cube_Band5a_185.92-187.79GHz-013.fits-Z-profile-Region_1-Statistic_Mean-Coordinate_Current-smoothed-2025-07-10-13-22-16.tsv\"\n",
    "\n",
    "df = pd.read_csv(file_path, sep=\"\\t\", skiprows=8) # 用 pandas 函式庫來讀取 TSV 檔案 (df=dataframe)\n",
    "df.columns = [col.strip().lstrip(\"#\").strip() for col in df.columns] \n",
    "\n",
    "# 將 DataFrame 的前兩個欄位轉換為數值型別\n",
    "df[df.columns[0]] = pd.to_numeric(df[df.columns[0]], errors='coerce') # 取得 DataFrame 的第一個欄位的名稱\n",
    "df[df.columns[1]] = pd.to_numeric(df[df.columns[1]], errors='coerce') # 取得 DataFrame 的第二個欄位的名稱\n",
    "df = df.dropna()  # Pandas 用來將資料轉換為數值型別的函數\n",
    "\n",
    "x = df[df.columns[0]]\n",
    "y = df[df.columns[1]] * 1000  # Jy → mJy 單位轉換而已啦\n",
    "\n",
    "my_lines =[(   , \"\")] \n",
    "# 第一個元素:數值，代表頻率/第二個元素:字串，譜線名"
   ]
  },
  {
   "cell_type": "code",
   "execution_count": null,
   "id": "a4b26391",
   "metadata": {},
   "outputs": [],
   "source": [
    "#define binning & boxcar smoothing\n",
    "def boxcar_smooth(y, kernel_size=3): #定義一個名為 boxcar_smooth 的函數，接收 y:強度值&kernel_size:平滑點數 這兩個數值\n",
    "    kernel = np.ones(kernel_size)/kernel_size #創建一個稱為 kernel 的平滑核 (smoothing kernel)。\n",
    "    #首先，np.ones(kernel_size): 創建一個長度為 kernel_size 的 NumPy 陣列，其中所有元素都是 1\n",
    "    #/ kernel_size :將陣列中的每個元素除以 kernel_size，所以核的總和為 1，而「核」代表了每個點的「權重」\n",
    "    \n",
    "    return np.convolve(y, kernel, mode=\"same\") #執行實際的平滑操作\n",
    "    #np.convolve(): NumPy 中的一個函數，用於執行「一維捲積(1D convolution)」:將一函數與另一函數混合(這裡是y&kernel)\n",
    "\n",
    "def rebin_spectrum(x, y, bin_size=3):\n",
    "    x = np.array(x)\n",
    "    y = np.array(y)\n",
    "    n_bins = len(y) // bin_size\n",
    "    x = x[:n_bins * bin_size]\n",
    "    y = y[:n_bins * bin_size]\n",
    "    x_binned = x.reshape(n_bins, bin_size).mean(axis=1)\n",
    "    y_binned = y.reshape(n_bins, bin_size).mean(axis=1)\n",
    "    return x_binned, y_binned"
   ]
  },
  {
   "cell_type": "code",
   "execution_count": null,
   "id": "817782ff",
   "metadata": {},
   "outputs": [],
   "source": [
    "#original data\n",
    "plt.figure(figsize=(16, 9))\n",
    "plt.plot(x, y, label=\"Original Data\", color=\"blue\", linewidth=1)\n",
    "plt.xlabel(\"frequency (GHz)\")\n",
    "plt.ylabel(\"Intensity (mJy/beam)\")\n",
    "for freq, label in my_lines:\n",
    "    plt.axvline(freq, color=\"red\", linestyle=\"-\", alpha=0.6)\n",
    "    plt.text(freq, max(y)*0.9, label, rotation=90, color=\"red\", fontsize=10, ha='right', va='top')\n",
    "#for freq, label in template_lines:\n",
    "#    plt.axvline(freq, color=\"blue\", linestyle=\"-\", alpha=0.6)\n",
    "#    plt.text(freq, max(df[df.columns[1]])*0.9, label, rotation=90, color=\"blue\", fontsize=12, ha='right', va='top')  \n",
    "plt.title(\"cube_Band5a_185.92-187.79GHz_187unknown\")\n",
    "plt.grid(False)\n",
    "plt.legend()\n",
    "plt.show()"
   ]
  },
  {
   "cell_type": "code",
   "execution_count": null,
   "id": "47f3420d",
   "metadata": {},
   "outputs": [
    {
     "data": {
      "text/plain": [
       "'\\n#if you just need boxcar smoothing\\n\\ny_boxcar = boxcar_smooth(y, kernel_size= )\\n\\nplt.figure(figsize=(8, 4))\\nplt.plot(x, y_boxcar, color=\"black\", linewidth=1, label=\"Boxcar (k=    )\")\\nfor freq, label in my_lines:\\n    plt.axvline(freq, color=\"red\", linestyle=\"-\", alpha=0.6)\\n    plt.text(freq, max(y_boxcar)*-0.1, label, rotation=90, color=\"red\", fontsize=10, ha=\\'right\\', va=\\'top\\')\\nplt.xlabel(\"freq. (GHz)\")\\nplt.ylabel(\"Flux Density (mJy/beam)\")\\nplt.title(\"    \")\\n#plt.xlim(    ,     )\\n#plt.ylim(    ,     )\\nplt.axhline(0, color=\"black\", linewidth=1, linestyle=\"--\")\\nplt.grid(True, alpha=0.2)\\nplt.legend()\\n'"
      ]
     },
     "execution_count": 1,
     "metadata": {},
     "output_type": "execute_result"
    }
   ],
   "source": [
    "'''\n",
    "#if you need to binning + boxcar smoothing\n",
    "\n",
    "x_binned, y_binned = rebin_spectrum(x, y, bin_size=    )\n",
    "y_binned_boxcar = boxcar_smooth(y_binned, kernel_size=    )\n",
    "\n",
    "plt.figure(figsize=(8, 4))\n",
    "plt.plot(x_binned, y_binned_boxcar, color=\"black\", linewidth=1, label=\"binning(b=    )+Boxcar (k=    )\")\n",
    "for freq, label in my_lines:\n",
    "    plt.axvline(freq, color=\"red\", linestyle=\"-\", alpha=0.6)\n",
    "    plt.text(freq, max(y_binned_boxcar)*-0.1, label, rotation=90, color=\"red\", fontsize=10, ha='right', va='top')\n",
    "#for freq, label in template_lines:\n",
    "#    plt.axvline(freq, color=\"blue\", linestyle=\"-\", alpha=0.6)\n",
    "#    plt.text(freq, max(df[df.columns[1]])*-0.1, label, rotation=90, color=\"blue\", fontsize=10, ha='right', va='top')  \n",
    "plt.xlabel(\"frequency (GHz)\")\n",
    "plt.ylabel(\"Flux Density (mJy/beam)\")\n",
    "plt.title(\"    \")\n",
    "plt.xlim(    ,     )\n",
    "#plt.ylim(    ,     )\n",
    "plt.axhline(0, color=\"black\", linewidth=1, linestyle=\"--\")\n",
    "plt.grid(True, alpha=0.2)\n",
    "plt.legend()\n",
    "\n",
    "'''\n",
    "\n",
    "'''\n",
    "#if you just need boxcar smoothing\n",
    "\n",
    "y_boxcar = boxcar_smooth(y, kernel_size= )\n",
    "\n",
    "plt.figure(figsize=(8, 4))\n",
    "plt.plot(x, y_boxcar, color=\"black\", linewidth=1, label=\"Boxcar (k=    )\")\n",
    "for freq, label in my_lines:\n",
    "    plt.axvline(freq, color=\"red\", linestyle=\"-\", alpha=0.6)\n",
    "    plt.text(freq, max(y_boxcar)*-0.1, label, rotation=90, color=\"red\", fontsize=10, ha='right', va='top')\n",
    "#for freq, label in template_lines:\n",
    "#    plt.axvline(freq, color=\"blue\", linestyle=\"-\", alpha=0.6)\n",
    "#    plt.text(freq, max(df[df.columns[1]])*-0.1, label, rotation=90, color=\"blue\", fontsize=10, ha='right', va='top')  \n",
    "plt.xlabel(\"frequency (GHz)\")\n",
    "plt.ylabel(\"Flux Density (mJy/beam)\")\n",
    "plt.title(\"    \")\n",
    "#plt.xlim(    ,     )\n",
    "#plt.ylim(    ,     )\n",
    "plt.axhline(0, color=\"black\", linewidth=1, linestyle=\"--\")\n",
    "plt.grid(True, alpha=0.2)\n",
    "plt.legend()\n",
    "'''"
   ]
  }
 ],
 "metadata": {
  "kernelspec": {
   "display_name": ".venv_py310",
   "language": "python",
   "name": "python3"
  },
  "language_info": {
   "codemirror_mode": {
    "name": "ipython",
    "version": 3
   },
   "file_extension": ".py",
   "mimetype": "text/x-python",
   "name": "python",
   "nbconvert_exporter": "python",
   "pygments_lexer": "ipython3",
   "version": "3.10.11"
  }
 },
 "nbformat": 4,
 "nbformat_minor": 5
}
